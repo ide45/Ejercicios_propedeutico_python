{
 "cells": [
  {
   "cell_type": "markdown",
   "metadata": {},
   "source": [
    "#Ejercicio 2 O-O "
   ]
  },
  {
   "cell_type": "markdown",
   "metadata": {},
   "source": [
    "Hora"
   ]
  },
  {
   "cell_type": "code",
   "execution_count": 4,
   "metadata": {},
   "outputs": [
    {
     "name": "stdout",
     "output_type": "stream",
     "text": [
      "El día de hoy es: 2022-02-05\n"
     ]
    }
   ],
   "source": [
    "from datetime import date\n",
    "date.today()\n",
    "print(\"El día de hoy es: \" + str(date.today()))\n"
   ]
  },
  {
   "cell_type": "markdown",
   "metadata": {},
   "source": [
    "Conversión"
   ]
  },
  {
   "cell_type": "code",
   "execution_count": 5,
   "metadata": {},
   "outputs": [
    {
     "name": "stdout",
     "output_type": "stream",
     "text": [
      "De persecs a años luz!\n",
      "1 persecs convertido a años luz es: 3.26156 años luz\n"
     ]
    }
   ],
   "source": [
    "print(\"De persecs a años luz!\")\n",
    "\n",
    "persec = input(\"Introduzca la distancia en persecs O-O ahora: \")\n",
    "\n",
    "resultado = int(persec)*3.26156\n",
    "print(persec + \" persecs convertido a años luz es: \" + str(resultado) + \" años luz\")"
   ]
  }
 ],
 "metadata": {
  "interpreter": {
   "hash": "d1ded2c1c36c218995e2f84ce7e8fcb2f61b45b7d222f408b3982ff37fb780c6"
  },
  "kernelspec": {
   "display_name": "Python 3.10.2 64-bit",
   "language": "python",
   "name": "python3"
  },
  "language_info": {
   "codemirror_mode": {
    "name": "ipython",
    "version": 3
   },
   "file_extension": ".py",
   "mimetype": "text/x-python",
   "name": "python",
   "nbconvert_exporter": "python",
   "pygments_lexer": "ipython3",
   "version": "3.10.2"
  },
  "orig_nbformat": 4
 },
 "nbformat": 4,
 "nbformat_minor": 2
}
