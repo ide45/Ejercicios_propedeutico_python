{
 "cells": [
  {
   "cell_type": "markdown",
   "metadata": {},
   "source": [
    "#Ejercicio 1"
   ]
  },
  {
   "cell_type": "code",
   "execution_count": 1,
   "metadata": {},
   "outputs": [
    {
     "name": "stdout",
     "output_type": "stream",
     "text": [
      "Interesting facts about the Moon.\n",
      "\n",
      "- The Moon is Earth's only satellite\n",
      "- On average, the Moon moves 4cm away from the Earth every year\n",
      "- The highest daylight temperature of the Moon is 127 Celsius\n",
      "- - - - - - - - - - -\n"
     ]
    }
   ],
   "source": [
    "text = \"\"\"Interesting facts about the Moon. The Moon is Earth's only satellite. There are several interesting facts about the Moon and how it affects life here on Earth. On average, the Moon moves 4cm away from the Earth every year. This yearly drift is not significant enough to cause immediate effects on Earth. The highest daylight temperature of the Moon is 127 C.\"\"\".replace('C', 'Celsius')\n",
    "\n",
    "partes = text.split('.')\n",
    "\n",
    "lista = [\"average\", \"temperature\", \"satellite\"]\n",
    "\n",
    "c = 1\n",
    "print(\"Interesting facts about the Moon.\\n\")\n",
    "for oracion in partes:\n",
    "    for palabra in lista:\n",
    "        if palabra in oracion:\n",
    "            print(\"-\" + oracion)\n",
    "\n",
    "print(\"- - - - - - - - - - -\")"
   ]
  },
  {
   "cell_type": "markdown",
   "metadata": {},
   "source": [
    "#Ejercicio 2"
   ]
  },
  {
   "cell_type": "code",
   "execution_count": 2,
   "metadata": {},
   "outputs": [
    {
     "name": "stdout",
     "output_type": "stream",
     "text": [
      "Gravedad de la luna luna en Tierra\n",
      "- - - - - - - - - -\n",
      "Planeta - Tierra\n",
      "Luna - luna\n",
      "Gravedad - 1.6199999999999999\n",
      "Gravedad de la luna luna en Tierra\n",
      "\n",
      "Planeta - Marte\n",
      "Luna - Ganímedes\n",
      "Gravedad - 0.00143\n",
      "\n"
     ]
    }
   ],
   "source": [
    "#Ejercicio 2 \n",
    "\n",
    "nombre = \"luna\"\n",
    "gravedad = 0.00162 # in kms\n",
    "planeta = \"Tierra\"\n",
    "\n",
    "titulo = f\"Gravedad de la luna {nombre} en {planeta}\\n\"\n",
    "\n",
    "cadenita = f\"\"\"- - - - - - - - - -\\nPlaneta - {planeta}\n",
    "Luna - {nombre}\n",
    "Gravedad - {gravedad*1000}\"\"\"\n",
    "\n",
    "print(titulo + cadenita)\n",
    "\n",
    "planeta = \"Marte\"\n",
    "gravedad  = 0.00143\n",
    "nombre = \"Ganímedes\"\n",
    "\n",
    "cadenita2 =f\"\"\"\n",
    "Planeta - {planeta}\n",
    "Luna - {nombre}\n",
    "Gravedad - {gravedad}\n",
    "\"\"\"\n",
    "print(titulo + cadenita2)\n"
   ]
  }
 ],
 "metadata": {
  "interpreter": {
   "hash": "d1ded2c1c36c218995e2f84ce7e8fcb2f61b45b7d222f408b3982ff37fb780c6"
  },
  "kernelspec": {
   "display_name": "Python 3.10.2 64-bit",
   "language": "python",
   "name": "python3"
  },
  "language_info": {
   "codemirror_mode": {
    "name": "ipython",
    "version": 3
   },
   "file_extension": ".py",
   "mimetype": "text/x-python",
   "name": "python",
   "nbconvert_exporter": "python",
   "pygments_lexer": "ipython3",
   "version": "3.10.2"
  },
  "orig_nbformat": 4
 },
 "nbformat": 4,
 "nbformat_minor": 2
}
