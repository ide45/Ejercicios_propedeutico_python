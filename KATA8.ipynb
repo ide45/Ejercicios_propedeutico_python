{
 "cells": [
  {
   "cell_type": "markdown",
   "metadata": {},
   "source": [
    "#Ejercicio 1"
   ]
  },
  {
   "cell_type": "code",
   "execution_count": 2,
   "metadata": {},
   "outputs": [
    {
     "name": "stdout",
     "output_type": "stream",
     "text": [
      "Planetita: Marte\n",
      "{'Polar': 6752, 'Equatorial': 6792}\n",
      "- - - - - - - - - -\n",
      "Número de planetas = 12\n",
      "Número de lunas: 214\n",
      "Promedio de lunas por cada planeta: 18\n"
     ]
    }
   ],
   "source": [
    "planet = {\n",
    "    'Nombre': 'Marte',\n",
    "    'Lunas': 2\n",
    "}\n",
    "\n",
    "#print(f\"Planetita: {planet.get('Nombre')}\")\n",
    "\n",
    "planet['Órbita'] = {\n",
    "    'Polar': 6752,\n",
    "    'Equatorial': 6792\n",
    "}\n",
    "\n",
    "print(f\"Planetita: {planet.get('Nombre')}\\n{planet.get('Órbita')}\")\n",
    "\n",
    "print(\"- - - - - - - - - -\")\n",
    "\n",
    "#Ejercicio 2\n",
    "planet_moons = {\n",
    "    'mercury': 0,\n",
    "    'venus': 0,\n",
    "    'earth': 1,\n",
    "    'mars': 2,\n",
    "    'jupiter': 79,\n",
    "    'saturn': 82,\n",
    "    'uranus': 27,\n",
    "    'neptune': 14,\n",
    "    'pluto': 5,\n",
    "    'haumea': 2,\n",
    "    'makemake': 1,\n",
    "    'eris': 1\n",
    "}\n",
    "\n",
    "ola = len(planet_moons)\n",
    "\n",
    "moons = 0\n",
    "for data in planet_moons.values():\n",
    "    moons = moons + data\n",
    "\n",
    "print(f\"Número de planetas = {ola}\")\n",
    "print(f\"Número de lunas: {moons}\")\n",
    "print(f\"Promedio de lunas por cada planeta: {round(moons/ola)   }\")"
   ]
  }
 ],
 "metadata": {
  "interpreter": {
   "hash": "d1ded2c1c36c218995e2f84ce7e8fcb2f61b45b7d222f408b3982ff37fb780c6"
  },
  "kernelspec": {
   "display_name": "Python 3.10.2 64-bit",
   "language": "python",
   "name": "python3"
  },
  "language_info": {
   "codemirror_mode": {
    "name": "ipython",
    "version": 3
   },
   "file_extension": ".py",
   "mimetype": "text/x-python",
   "name": "python",
   "nbconvert_exporter": "python",
   "pygments_lexer": "ipython3",
   "version": "3.10.2"
  },
  "orig_nbformat": 4
 },
 "nbformat": 4,
 "nbformat_minor": 2
}
