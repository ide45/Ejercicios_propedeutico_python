{
 "cells": [
  {
   "cell_type": "markdown",
   "metadata": {},
   "source": [
    "#Ejercicio 1"
   ]
  },
  {
   "cell_type": "code",
   "execution_count": 3,
   "metadata": {},
   "outputs": [
    {
     "name": "stdout",
     "output_type": "stream",
     "text": [
      "El número de planetas en el sistema solar es de: 8\n",
      "Contando a plutón son: 9\n",
      "- - - - - - - - - - - - - - - - - - \n",
      "Hola Usuario, escriba el planeta de su preferencia\n",
      "Marte está en la posición 4 dentro del sistema solar\n",
      "Después, los anteriores y más próximos al sol son ['Mercurio', 'Venus', 'Tierra']\n",
      "Los que le siguen son ['Jupiter', 'Saturno', 'Urano']\n"
     ]
    }
   ],
   "source": [
    "planetitas = ['Mercurio', 'Venus', 'Tierra', 'Marte', 'Jupiter','Saturno', 'Urano', 'Neptune']\n",
    "\n",
    "print(f\"El número de planetas en el sistema solar es de: {len(planetitas)}\")\n",
    "\n",
    "planetitas.append('Plutón')\n",
    "print(f\"Contando a plutón son: {len(planetitas)}\")\n",
    "\n",
    "#Ejercicio 2\n",
    "\n",
    "print(\"- - - - - - - - - - - - - - - - - - \")\n",
    "planetitas2 = ['Mercurio', 'Venus', 'Tierra', 'Marte', 'Jupiter','Saturno', 'Urano', 'Neptune']\n",
    "\n",
    "print(\"Hola Usuario, escriba el planeta de su preferencia\")\n",
    "usu = input(\"(Use mayúsculas al principio, por favor. Y en español): \")\n",
    "\n",
    "posiciom = planetitas2.index(usu)\n",
    "\n",
    "print(f\"{usu} está en la posición {posiciom + 1} dentro del sistema solar\\nDespués, los anteriores y más próximos al sol son {planetitas2[0:posiciom]}\")\n",
    "print(f\"Los que le siguen son {planetitas2[posiciom+1:-1]}\")"
   ]
  }
 ],
 "metadata": {
  "interpreter": {
   "hash": "d1ded2c1c36c218995e2f84ce7e8fcb2f61b45b7d222f408b3982ff37fb780c6"
  },
  "kernelspec": {
   "display_name": "Python 3.10.2 64-bit",
   "language": "python",
   "name": "python3"
  },
  "language_info": {
   "codemirror_mode": {
    "name": "ipython",
    "version": 3
   },
   "file_extension": ".py",
   "mimetype": "text/x-python",
   "name": "python",
   "nbconvert_exporter": "python",
   "pygments_lexer": "ipython3",
   "version": "3.10.2"
  },
  "orig_nbformat": 4
 },
 "nbformat": 4,
 "nbformat_minor": 2
}
