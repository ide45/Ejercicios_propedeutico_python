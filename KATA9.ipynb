{
 "cells": [
  {
   "cell_type": "code",
   "execution_count": 1,
   "metadata": {},
   "outputs": [],
   "source": [
    "#Ejercicio 1"
   ]
  },
  {
   "cell_type": "code",
   "execution_count": 2,
   "metadata": {},
   "outputs": [
    {
     "name": "stdout",
     "output_type": "stream",
     "text": [
      "👍\n",
      "El promedio de los tanques es: 2.0\n",
      "- - - - - - - - - - -\n"
     ]
    }
   ],
   "source": [
    "litros = [ ]\n",
    "usu_litros = ' '\n",
    "\n",
    "def combustible():\n",
    "    c=0\n",
    "    while c != 3:\n",
    "       usu_litros = input(f\"Litros en el tanque {c}: \")\n",
    "       litros.append(usu_litros)\n",
    "       c = c + 1\n",
    "    return '👍'\n",
    "\n",
    "def promedio():\n",
    "    return (int(litros[0]) + int(litros[1]) + int(litros[2])) / 3\n",
    "\n",
    "print(f\"{combustible()}\\nEl promedio de los tanques es: {promedio()}\")\n",
    "\n",
    "print(\"- - - - - - - - - - -\")"
   ]
  },
  {
   "cell_type": "markdown",
   "metadata": {},
   "source": [
    "#Ejercicio 2"
   ]
  },
  {
   "cell_type": "code",
   "execution_count": 3,
   "metadata": {},
   "outputs": [
    {
     "name": "stdout",
     "output_type": "stream",
     "text": [
      "El combustible actual es de: 10L\n",
      "Nuestro destino es: pepe\n",
      "El tiempo aproximado será de: 10m\n",
      "El combustible actual es de: {'combus': 10}L\n",
      "Nuestro destino es: Ola\n",
      "El tiempo aproximado será de: 58m\n"
     ]
    }
   ],
   "source": [
    "def roketo(tiempo, destino, combustible):\n",
    "    return (f'El combustible actual es de: {combustible}L\\nNuestro destino es: {destino}\\nEl tiempo aproximado será de: {tiempo}m')\n",
    "\n",
    "print(roketo(10,'pepe',10))\n",
    "\n",
    "\n",
    "def roketo1(desti, *temp, **combus):\n",
    "     return (f'El combustible actual es de: {combus}L\\nNuestro destino es: {desti}\\nEl tiempo aproximado será de: {sum(temp)}m')\n",
    "\n",
    "print(roketo1('Ola', 10, 15, 23, 10,combus = 10))"
   ]
  }
 ],
 "metadata": {
  "interpreter": {
   "hash": "d1ded2c1c36c218995e2f84ce7e8fcb2f61b45b7d222f408b3982ff37fb780c6"
  },
  "kernelspec": {
   "display_name": "Python 3.10.2 64-bit",
   "language": "python",
   "name": "python3"
  },
  "language_info": {
   "codemirror_mode": {
    "name": "ipython",
    "version": 3
   },
   "file_extension": ".py",
   "mimetype": "text/x-python",
   "name": "python",
   "nbconvert_exporter": "python",
   "pygments_lexer": "ipython3",
   "version": "3.10.2"
  },
  "orig_nbformat": 4
 },
 "nbformat": 4,
 "nbformat_minor": 2
}
