{
 "cells": [
  {
   "cell_type": "code",
   "execution_count": 1,
   "metadata": {},
   "outputs": [
    {
     "name": "stdout",
     "output_type": "stream",
     "text": [
      "Planeta 1: ola\n",
      "Planeta 2: kmo\n",
      "Planeta 3: tas\n",
      "Planeta 4: XD\n",
      "Planeta 5: noc\n"
     ]
    }
   ],
   "source": [
    "nuevo_planeta = ' '\n",
    "\n",
    "planetas = [ ]\n",
    "\n",
    "while nuevo_planeta.lower() != 'done': \n",
    "    nuevo_planeta = input('Escriba un planeta, cuando ya no quiera poner más, escriba (done): ')\n",
    "    planetas.append(nuevo_planeta)\n",
    "\n",
    "c=0\n",
    "for x in planetas:\n",
    "    if planetas[c] != 'done':\n",
    "        print(f\"Planeta {c+1}: {planetas[c]}\")\n",
    "        c = c + 1"
   ]
  }
 ],
 "metadata": {
  "interpreter": {
   "hash": "d1ded2c1c36c218995e2f84ce7e8fcb2f61b45b7d222f408b3982ff37fb780c6"
  },
  "kernelspec": {
   "display_name": "Python 3.10.2 64-bit",
   "language": "python",
   "name": "python3"
  },
  "language_info": {
   "codemirror_mode": {
    "name": "ipython",
    "version": 3
   },
   "file_extension": ".py",
   "mimetype": "text/x-python",
   "name": "python",
   "nbconvert_exporter": "python",
   "pygments_lexer": "ipython3",
   "version": "3.10.2"
  },
  "orig_nbformat": 4
 },
 "nbformat": 4,
 "nbformat_minor": 2
}
