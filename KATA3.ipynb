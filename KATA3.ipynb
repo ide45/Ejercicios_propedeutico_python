{
 "cells": [
  {
   "cell_type": "code",
   "execution_count": 1,
   "metadata": {},
   "outputs": [
    {
     "name": "stdout",
     "output_type": "stream",
     "text": [
      "Emergenciaaaa!!!11!!!1\n",
      "- - - - - - - - - - - - - - - - - -\n",
      "Vean al cielo! Puede que noten un rayo de luz, queridos ciudadanos. se debe a un asteroide que entra a nuestra atmósfera\n",
      "- - - - - - - - - - - - - - - - -\n",
      " ____  ____   __    ___  ___  ___     __  \n",
      "/ ___)(    \\ /__\\  / __)/ __)/ __) ___\\ \\ \n",
      "\\___ \\ ) D (/ \\/ \\( (__( (__( (__ (___)) )\n",
      "(____/(____/\\_/\\_/ \\___)\\___)\\___)    /_/\n",
      "Sistema de detección de amenazas contra cuerpos celestiales o SDACCC\n"
     ]
    },
    {
     "ename": "TypeError",
     "evalue": "'>' not supported between instances of 'str' and 'int'",
     "output_type": "error",
     "traceback": [
      "\u001b[1;31m---------------------------------------------------------------------------\u001b[0m",
      "\u001b[1;31mTypeError\u001b[0m                                 Traceback (most recent call last)",
      "\u001b[1;32mUntitled-1.ipynb Cell 1'\u001b[0m in \u001b[0;36m<module>\u001b[1;34m\u001b[0m\n\u001b[0;32m     <a href='vscode-notebook-cell:Untitled-1.ipynb?jupyter-notebook#ch0000000untitled?line=32'>33</a>\u001b[0m t \u001b[39m=\u001b[39m \u001b[39minput\u001b[39m(\u001b[39m\"\u001b[39m\u001b[39m¿Qué tamaño tiene el asteroide? \u001b[39m\u001b[39m\"\u001b[39m)\n\u001b[0;32m     <a href='vscode-notebook-cell:Untitled-1.ipynb?jupyter-notebook#ch0000000untitled?line=33'>34</a>\u001b[0m v \u001b[39m=\u001b[39m \u001b[39minput\u001b[39m(\u001b[39m\"\u001b[39m\u001b[39m¿Cuál es la velocidad del asteroide? \u001b[39m\u001b[39m\"\u001b[39m)\n\u001b[1;32m---> <a href='vscode-notebook-cell:Untitled-1.ipynb?jupyter-notebook#ch0000000untitled?line=35'>36</a>\u001b[0m \u001b[39mif\u001b[39;00m t \u001b[39m>\u001b[39;49m \u001b[39m25\u001b[39;49m \u001b[39mand\u001b[39;00m v \u001b[39m>\u001b[39m \u001b[39m25\u001b[39m:\n\u001b[0;32m     <a href='vscode-notebook-cell:Untitled-1.ipynb?jupyter-notebook#ch0000000untitled?line=36'>37</a>\u001b[0m     \u001b[39mprint\u001b[39m(\u001b[39m\"\u001b[39m\u001b[39mCorraaaan, póngase a salvo O-O\u001b[39m\u001b[39m\"\u001b[39m)\n\u001b[0;32m     <a href='vscode-notebook-cell:Untitled-1.ipynb?jupyter-notebook#ch0000000untitled?line=37'>38</a>\u001b[0m \u001b[39melif\u001b[39;00m t \u001b[39m<\u001b[39m\u001b[39m=\u001b[39m \u001b[39m25\u001b[39m \u001b[39mand\u001b[39;00m v \u001b[39m<\u001b[39m\u001b[39m=\u001b[39m \u001b[39m25\u001b[39m:\n",
      "\u001b[1;31mTypeError\u001b[0m: '>' not supported between instances of 'str' and 'int'"
     ]
    }
   ],
   "source": [
    "#Velocidad = 49\n",
    "asteroide = 49\n",
    "\n",
    "if asteroide > 25:\n",
    "    print(\"Emergenciaaaa!!!11!!!1\")\n",
    "else:\n",
    "    print(\"No hay emergenciaaaa!!!11!1!\")\n",
    "\n",
    "print(\"- - - - - - - - - - - - - - - - - -\")\n",
    "\n",
    "#Velocidad = 19\n",
    "\n",
    "velocidad = 23\n",
    "\n",
    "if velocidad >= 20 and velocidad <= 24:\n",
    "    print(\"Vean al cielo! Puede que noten un rayo de luz, queridos ciudadanos. se debe a un asteroide que entra a nuestra atmósfera\")\n",
    "elif velocidad <= 20:\n",
    "    print(\"Viene un asteroide, sí. Pero pos ni lo vamos a notar\")\n",
    "else:\n",
    "    print(\"Ya valió\")\n",
    "\n",
    "print(\"- - - - - - - - - - - - - - - - -\")\n",
    "\n",
    "#AND OR\n",
    "print(\" ____  ____   __    ___  ___  ___     __  \")\n",
    "print(\"/ ___)(    \\ /__\\  / __)/ __)/ __) ___\\ \\ \")\n",
    "print(\"\\___ \\ ) D (/ \\/ \\( (__( (__( (__ (___)) )\")\n",
    "print(\"(____/(____/\\_/\\_/ \\___)\\___)\\___)    /_/\")\n",
    "#https://patorjk.com/software/taag/#p=display&f=Graffiti&t=Type%20Something%20\n",
    "\n",
    "print(\"Sistema de detección de amenazas contra cuerpos celestiales o SDACCC\")\n",
    "\n",
    "t = input(\"¿Qué tamaño tiene el asteroide? \")\n",
    "v = input(\"¿Cuál es la velocidad del asteroide? \")\n",
    "\n",
    "if t > '25' and v > '25':\n",
    "    print(\"Corraaaan, póngase a salvo O-O\")\n",
    "elif t <= '25' and v <= '25':\n",
    "    print(\"Todo bien UuU, miren al cielo que habrá un expectaculo\")\n",
    "elif v >= '20':\n",
    "    print(\"Rayitos de luz en el cielo!\")\n",
    "else:\n",
    "    print(\"A mimir, todo está perfecto\")\n"
   ]
  }
 ],
 "metadata": {
  "interpreter": {
   "hash": "d1ded2c1c36c218995e2f84ce7e8fcb2f61b45b7d222f408b3982ff37fb780c6"
  },
  "kernelspec": {
   "display_name": "Python 3.10.2 64-bit",
   "language": "python",
   "name": "python3"
  },
  "language_info": {
   "codemirror_mode": {
    "name": "ipython",
    "version": 3
   },
   "file_extension": ".py",
   "mimetype": "text/x-python",
   "name": "python",
   "nbconvert_exporter": "python",
   "pygments_lexer": "ipython3",
   "version": "3.10.2"
  },
  "orig_nbformat": 4
 },
 "nbformat": 4,
 "nbformat_minor": 2
}
