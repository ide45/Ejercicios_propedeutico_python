{
 "cells": [
  {
   "cell_type": "code",
   "execution_count": 1,
   "metadata": {},
   "outputs": [
    {
     "name": "stdout",
     "output_type": "stream",
     "text": [
      "Emergenciaaaa!!!11!!!1\n",
      "- - - - - - - - - - - - - - - - - -\n",
      "Vean al cielo! Puede que noten un rayo de luz, queridos ciudadanos. se debe a un asteroide que entra a nuestra atmósfera\n",
      "- - - - - - - - - - - - - - - - -\n",
      " ____  ____   __    ___  ___  ___     __  \n",
      "/ ___)(    \\ /__\\  / __)/ __)/ __) ___\\ \\ \n",
      "\\___ \\ ) D (/ \\/ \\( (__( (__( (__ (___)) )\n",
      "(____/(____/\\_/\\_/ \\___)\\___)\\___)    /_/\n",
      "Sistema de detección de amenazas contra cuerpos celestiales o SDACCC\n"
     ]
    },
 
   ],
   "source": [
    "#Velocidad = 49\n",
    "asteroide = 49\n",
    "\n",
    "if asteroide > 25:\n",
    "    print(\"Emergenciaaaa!!!11!!!1\")\n",
    "else:\n",
    "    print(\"No hay emergenciaaaa!!!11!1!\")\n",
    "\n",
    "print(\"- - - - - - - - - - - - - - - - - -\")\n",
    "\n",
    "#Velocidad = 19\n",
    "\n",
    "velocidad = 23\n",
    "\n",
    "if velocidad >= 20 and velocidad <= 24:\n",
    "    print(\"Vean al cielo! Puede que noten un rayo de luz, queridos ciudadanos. se debe a un asteroide que entra a nuestra atmósfera\")\n",
    "elif velocidad <= 20:\n",
    "    print(\"Viene un asteroide, sí. Pero pos ni lo vamos a notar\")\n",
    "else:\n",
    "    print(\"Ya valió\")\n",
    "\n",
    "print(\"- - - - - - - - - - - - - - - - -\")\n",
    "\n",
    "#AND OR\n",
    "print(\" ____  ____   __    ___  ___  ___     __  \")\n",
    "print(\"/ ___)(    \\ /__\\  / __)/ __)/ __) ___\\ \\ \")\n",
    "print(\"\\___ \\ ) D (/ \\/ \\( (__( (__( (__ (___)) )\")\n",
    "print(\"(____/(____/\\_/\\_/ \\___)\\___)\\___)    /_/\")\n",
    "#https://patorjk.com/software/taag/#p=display&f=Graffiti&t=Type%20Something%20\n",
    "\n",
    "print(\"Sistema de detección de amenazas contra cuerpos celestiales o SDACCC\")\n",
    "\n",
    "t = input(\"¿Qué tamaño tiene el asteroide? \")\n",
    "v = input(\"¿Cuál es la velocidad del asteroide? \")\n",
    "\n",
    "if t > '25' and v > '25':\n",
    "    print(\"Corraaaan, póngase a salvo O-O\")\n",
    "elif t <= '25' and v <= '25':\n",
    "    print(\"Todo bien UuU, miren al cielo que habrá un expectaculo\")\n",
    "elif v >= '20':\n",
    "    print(\"Rayitos de luz en el cielo!\")\n",
    "else:\n",
    "    print(\"A mimir, todo está perfecto\")\n"
   ]
  }
 ],
 "metadata": {
  "interpreter": {
   "hash": "d1ded2c1c36c218995e2f84ce7e8fcb2f61b45b7d222f408b3982ff37fb780c6"
  },
  "kernelspec": {
   "display_name": "Python 3.10.2 64-bit",
   "language": "python",
   "name": "python3"
  },
  "language_info": {
   "codemirror_mode": {
    "name": "ipython",
    "version": 3
   },
   "file_extension": ".py",
   "mimetype": "text/x-python",
   "name": "python",
   "nbconvert_exporter": "python",
   "pygments_lexer": "ipython3",
   "version": "3.10.2"
  },
  "orig_nbformat": 4
 },
 "nbformat": 4,
 "nbformat_minor": 2
}
