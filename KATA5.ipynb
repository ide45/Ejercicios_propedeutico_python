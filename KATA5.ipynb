{
 "cells": [
  {
   "cell_type": "markdown",
   "metadata": {},
   "source": [
    "#Ejercicio 1"
   ]
  },
  {
   "cell_type": "code",
   "execution_count": 1,
   "metadata": {},
   "outputs": [
    {
     "name": "stdout",
     "output_type": "stream",
     "text": [
      "La distancia de la Tierra hasta Jupiter es de 628949330 km\n",
      "La distancia de la Tierra hasta Jupiter en millas es de 390577533.93 millas\n"
     ]
    }
   ],
   "source": [
    "from decimal import Rounded\n",
    "from tkinter import ROUND\n",
    "\n",
    "\n",
    "distancia_tierrita = 149597870\n",
    "distancia_jupiter = 778547200\n",
    " \n",
    "resultado = distancia_jupiter - distancia_tierrita\n",
    "print(f\"La distancia de la Tierra hasta Jupiter es de {resultado} km\")\n",
    "\n",
    "print(f\"La distancia de la Tierra hasta Jupiter en millas es de {resultado*0.621} millas\")"
   ]
  },
  {
   "cell_type": "markdown",
   "metadata": {},
   "source": [
    "#Ejercicio 2"
   ]
  },
  {
   "cell_type": "code",
   "execution_count": 2,
   "metadata": {},
   "outputs": [
    {
     "name": "stdout",
     "output_type": "stream",
     "text": [
      "- - - - - - - - - - -\n",
      "Distancia de x planeta a x planeta\n",
      "La distancia de ola a ola es de 10 km\n"
     ]
    }
   ],
   "source": [
    "print(\"- - - - - - - - - - -\\nDistancia de x planeta a x planeta\")\n",
    "\n",
    "planeta1 = input(\"¿Qué planeta quieres poner primero? \")\n",
    "x = input(f\"De cuánto es la distancia (en km) de {planeta1} al Sol? \")\n",
    "planeta2 = input(\"El otro planeta será... \")\n",
    "y = input(f\"De cuánto es la distancia (en km) de {planeta2} al Sol? \")\n",
    "\n",
    "o = int(x)\n",
    "p = int(y)\n",
    "\n",
    "resultado = o - p\n",
    "\n",
    "print(f\"La distancia de {planeta1} a {planeta2} es de {abs(resultado)} km\")"
   ]
  }
 ],
 "metadata": {
  "interpreter": {
   "hash": "d1ded2c1c36c218995e2f84ce7e8fcb2f61b45b7d222f408b3982ff37fb780c6"
  },
  "kernelspec": {
   "display_name": "Python 3.10.2 64-bit",
   "language": "python",
   "name": "python3"
  },
  "language_info": {
   "codemirror_mode": {
    "name": "ipython",
    "version": 3
   },
   "file_extension": ".py",
   "mimetype": "text/x-python",
   "name": "python",
   "nbconvert_exporter": "python",
   "pygments_lexer": "ipython3",
   "version": "3.10.2"
  },
  "orig_nbformat": 4
 },
 "nbformat": 4,
 "nbformat_minor": 2
}
